{
  "nbformat": 4,
  "nbformat_minor": 0,
  "metadata": {
    "colab": {
      "name": "DainikAsomDownload-Daily.ipynb",
      "provenance": [],
      "collapsed_sections": [],
      "authorship_tag": "ABX9TyNkQejpV03Gs2kBfRjKfEis",
      "include_colab_link": true
    },
    "kernelspec": {
      "name": "python3",
      "display_name": "Python 3"
    },
    "language_info": {
      "name": "python"
    }
  },
  "cells": [
    {
      "cell_type": "markdown",
      "metadata": {
        "id": "view-in-github",
        "colab_type": "text"
      },
      "source": [
        "<a href=\"https://colab.research.google.com/github/jyotichoudhury/Id_Check/blob/master/DainikAsomDownload_Daily.ipynb\" target=\"_parent\"><img src=\"https://colab.research.google.com/assets/colab-badge.svg\" alt=\"Open In Colab\"/></a>"
      ]
    },
    {
      "cell_type": "code",
      "execution_count": null,
      "metadata": {
        "id": "-LUfr1VJaRkn"
      },
      "outputs": [],
      "source": [
        "import requests\n",
        "import sys\n",
        "from bs4 import BeautifulSoup as bs\n",
        "\n",
        "yr          = sys.argv[1]\n",
        "mnth        = sys.argv[2]\n",
        "day         = sys.argv[3]\n",
        "#urlnum      = sys.argv[4]\n",
        "\n",
        "url1 = \"https://dainikasam.assamtribune.com/epaper/dainik-asam?date=\"+str(yr)+\"/\"+str(mnth)+\"/\"+str(day)\n",
        "#\"https://dainikasam.assamtribune.com/full-page-pdf/epaper/pdf/\"+str(yr)+\"/\"+str(mnth)+\"/\"+str(day)+\"/dainik-asam-\"+str(day)+\"-\"+str(mnth)+\"-\"+str(yr)+\"/\" +str(urlnum)\n",
        "#\"https://dainikasam.assamtribune.com/full-page-pdf/epaper/pdf/2021/04/17/dainik-asam-17-04-2021/1805\"\n",
        "#\"https://dainikasam.assamtribune.com/full-page-pdf/epaper/pdf/\"+str(yr)+\"/\"+str(mnth)+\"/\"+str(day)+\"/april-\"+str(day)+\"-\"+str(yr)+\"/\"+str(urlnum)\n",
        "\n",
        "res1 = requests.get(url1)\n",
        "soup1 = bs(res1.content,'lxml')\n",
        "d2 = soup1.find(class_=\"l-img-box\")\n",
        "url2 = d2['href']\n",
        "baseurl = \"https://dainikasam.assamtribune.com\"+url2\n",
        "res = requests.get(baseurl)\n",
        "print(baseurl)\n",
        "soup = bs(res.content,'lxml')\n",
        "d1 = soup.find(class_='imageGalleryWrapper')\n",
        "thelist = d1.find_all('img')\n",
        "filename1 = yr+\"_\"+mnth+\"_\"+day\n",
        "n = 1\n",
        "for element in thelist:\n",
        "    filename = filename1+\"_\"+str(n)+\".png\"\n",
        "    res = requests.get(element['data-src-path'])\n",
        "    if res.status_code == 200:\n",
        "      with open (filename, 'wb') as f:\n",
        "        f.write(res.content)\n",
        "        n = n+1"
      ]
    }
  ]
}